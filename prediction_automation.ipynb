{
  "nbformat": 4,
  "nbformat_minor": 0,
  "metadata": {
    "colab": {
      "name": "prediction automation",
      "provenance": [],
      "include_colab_link": true
    },
    "kernelspec": {
      "name": "python3",
      "display_name": "Python 3"
    },
    "accelerator": "GPU"
  },
  "cells": [
    {
      "cell_type": "markdown",
      "metadata": {
        "id": "view-in-github",
        "colab_type": "text"
      },
      "source": [
        "<a href=\"https://colab.research.google.com/github/chmnshrma/Gold-Silver-Price-prediction-/blob/main/prediction_automation.ipynb\" target=\"_parent\"><img src=\"https://colab.research.google.com/assets/colab-badge.svg\" alt=\"Open In Colab\"/></a>"
      ]
    },
    {
      "cell_type": "markdown",
      "metadata": {
        "id": "mrG0EKYUXRoY"
      },
      "source": [
        "#Gold & Silver Price prediction using Arima"
      ]
    },
    {
      "cell_type": "code",
      "metadata": {
        "id": "z-5WsJ9Ef6k_"
      },
      "source": [
        "## Switch to GPU mode for faster Computation (Runtime> Change runtime> GPU)"
      ],
      "execution_count": null,
      "outputs": []
    },
    {
      "cell_type": "markdown",
      "metadata": {
        "id": "EJPImZ5za2DY"
      },
      "source": [
        "## Importing all the necessary Libraries"
      ]
    },
    {
      "cell_type": "code",
      "metadata": {
        "id": "ZNPlTwMfbBbv"
      },
      "source": [
        "#Necessary libraries = Pandas, matplotlib\n",
        "\n",
        "#pandas= data Manipulation and analysis\n",
        "#Arima = Forecasting\n",
        "#matplotlib= data visualization\n"
      ],
      "execution_count": null,
      "outputs": []
    },
    {
      "cell_type": "code",
      "metadata": {
        "id": "tR4fFCxE8fAg",
        "colab": {
          "base_uri": "https://localhost:8080/"
        },
        "outputId": "9af94193-089d-46e6-900e-72c45447ef8e"
      },
      "source": [
        "!pip install pmdarima"
      ],
      "execution_count": null,
      "outputs": [
        {
          "output_type": "stream",
          "name": "stdout",
          "text": [
            "Collecting pmdarima\n",
            "  Downloading pmdarima-1.8.2-cp37-cp37m-manylinux1_x86_64.whl (1.5 MB)\n",
            "\u001b[K     |████████████████████████████████| 1.5 MB 12.3 MB/s \n",
            "\u001b[?25hRequirement already satisfied: scipy>=1.3.2 in /usr/local/lib/python3.7/dist-packages (from pmdarima) (1.4.1)\n",
            "Requirement already satisfied: urllib3 in /usr/local/lib/python3.7/dist-packages (from pmdarima) (1.24.3)\n",
            "Requirement already satisfied: pandas>=0.19 in /usr/local/lib/python3.7/dist-packages (from pmdarima) (1.1.5)\n",
            "Requirement already satisfied: joblib>=0.11 in /usr/local/lib/python3.7/dist-packages (from pmdarima) (1.0.1)\n",
            "Requirement already satisfied: numpy~=1.19.0 in /usr/local/lib/python3.7/dist-packages (from pmdarima) (1.19.5)\n",
            "Requirement already satisfied: setuptools!=50.0.0,>=38.6.0 in /usr/local/lib/python3.7/dist-packages (from pmdarima) (57.4.0)\n",
            "Collecting statsmodels!=0.12.0,>=0.11\n",
            "  Downloading statsmodels-0.12.2-cp37-cp37m-manylinux1_x86_64.whl (9.5 MB)\n",
            "\u001b[K     |████████████████████████████████| 9.5 MB 15.1 MB/s \n",
            "\u001b[?25hRequirement already satisfied: Cython!=0.29.18,>=0.29 in /usr/local/lib/python3.7/dist-packages (from pmdarima) (0.29.24)\n",
            "Requirement already satisfied: scikit-learn>=0.22 in /usr/local/lib/python3.7/dist-packages (from pmdarima) (0.22.2.post1)\n",
            "Requirement already satisfied: python-dateutil>=2.7.3 in /usr/local/lib/python3.7/dist-packages (from pandas>=0.19->pmdarima) (2.8.2)\n",
            "Requirement already satisfied: pytz>=2017.2 in /usr/local/lib/python3.7/dist-packages (from pandas>=0.19->pmdarima) (2018.9)\n",
            "Requirement already satisfied: six>=1.5 in /usr/local/lib/python3.7/dist-packages (from python-dateutil>=2.7.3->pandas>=0.19->pmdarima) (1.15.0)\n",
            "Requirement already satisfied: patsy>=0.5 in /usr/local/lib/python3.7/dist-packages (from statsmodels!=0.12.0,>=0.11->pmdarima) (0.5.1)\n",
            "Installing collected packages: statsmodels, pmdarima\n",
            "  Attempting uninstall: statsmodels\n",
            "    Found existing installation: statsmodels 0.10.2\n",
            "    Uninstalling statsmodels-0.10.2:\n",
            "      Successfully uninstalled statsmodels-0.10.2\n",
            "Successfully installed pmdarima-1.8.2 statsmodels-0.12.2\n"
          ]
        }
      ]
    },
    {
      "cell_type": "code",
      "metadata": {
        "id": "yK5iokzObG8b"
      },
      "source": [
        "import pandas as pd\n",
        "import matplotlib.pyplot as plt"
      ],
      "execution_count": null,
      "outputs": []
    },
    {
      "cell_type": "markdown",
      "metadata": {
        "id": "LQr_B55bbjQ1"
      },
      "source": [
        "## Importing the Dataset & Exploring it"
      ]
    },
    {
      "cell_type": "code",
      "metadata": {
        "id": "76a6siA7bma0"
      },
      "source": [
        "df=pd.read_csv(\"GS.csv\")"
      ],
      "execution_count": null,
      "outputs": []
    },
    {
      "cell_type": "code",
      "metadata": {
        "id": "vezMkspZboYX"
      },
      "source": [
        "#read_csv function from pandas"
      ],
      "execution_count": null,
      "outputs": []
    },
    {
      "cell_type": "code",
      "metadata": {
        "id": "ovLUGCBzQuRd",
        "colab": {
          "base_uri": "https://localhost:8080/",
          "height": 297
        },
        "outputId": "573c0e94-edfa-4de6-c6db-29219ea8e485"
      },
      "source": [
        "df.describe()"
      ],
      "execution_count": null,
      "outputs": [
        {
          "output_type": "execute_result",
          "data": {
            "text/html": [
              "<div>\n",
              "<style scoped>\n",
              "    .dataframe tbody tr th:only-of-type {\n",
              "        vertical-align: middle;\n",
              "    }\n",
              "\n",
              "    .dataframe tbody tr th {\n",
              "        vertical-align: top;\n",
              "    }\n",
              "\n",
              "    .dataframe thead th {\n",
              "        text-align: right;\n",
              "    }\n",
              "</style>\n",
              "<table border=\"1\" class=\"dataframe\">\n",
              "  <thead>\n",
              "    <tr style=\"text-align: right;\">\n",
              "      <th></th>\n",
              "      <th>Open</th>\n",
              "      <th>High</th>\n",
              "      <th>Low</th>\n",
              "      <th>Close</th>\n",
              "      <th>Adj Close</th>\n",
              "      <th>Volume</th>\n",
              "    </tr>\n",
              "  </thead>\n",
              "  <tbody>\n",
              "    <tr>\n",
              "      <th>count</th>\n",
              "      <td>251.000000</td>\n",
              "      <td>251.000000</td>\n",
              "      <td>251.000000</td>\n",
              "      <td>251.000000</td>\n",
              "      <td>251.000000</td>\n",
              "      <td>2.510000e+02</td>\n",
              "    </tr>\n",
              "    <tr>\n",
              "      <th>mean</th>\n",
              "      <td>313.769601</td>\n",
              "      <td>317.466096</td>\n",
              "      <td>310.345658</td>\n",
              "      <td>314.179362</td>\n",
              "      <td>311.470941</td>\n",
              "      <td>2.898465e+06</td>\n",
              "    </tr>\n",
              "    <tr>\n",
              "      <th>std</th>\n",
              "      <td>69.348390</td>\n",
              "      <td>69.812047</td>\n",
              "      <td>68.736568</td>\n",
              "      <td>69.199754</td>\n",
              "      <td>69.905186</td>\n",
              "      <td>1.144842e+06</td>\n",
              "    </tr>\n",
              "    <tr>\n",
              "      <th>min</th>\n",
              "      <td>188.979996</td>\n",
              "      <td>190.399994</td>\n",
              "      <td>185.520004</td>\n",
              "      <td>186.119995</td>\n",
              "      <td>182.877487</td>\n",
              "      <td>9.681000e+05</td>\n",
              "    </tr>\n",
              "    <tr>\n",
              "      <th>25%</th>\n",
              "      <td>245.194999</td>\n",
              "      <td>245.659996</td>\n",
              "      <td>242.059998</td>\n",
              "      <td>244.414994</td>\n",
              "      <td>241.465912</td>\n",
              "      <td>2.149950e+06</td>\n",
              "    </tr>\n",
              "    <tr>\n",
              "      <th>50%</th>\n",
              "      <td>332.070007</td>\n",
              "      <td>335.809998</td>\n",
              "      <td>327.559998</td>\n",
              "      <td>330.850006</td>\n",
              "      <td>328.141907</td>\n",
              "      <td>2.716600e+06</td>\n",
              "    </tr>\n",
              "    <tr>\n",
              "      <th>75%</th>\n",
              "      <td>371.354996</td>\n",
              "      <td>373.924988</td>\n",
              "      <td>367.229996</td>\n",
              "      <td>371.334992</td>\n",
              "      <td>369.355255</td>\n",
              "      <td>3.333850e+06</td>\n",
              "    </tr>\n",
              "    <tr>\n",
              "      <th>max</th>\n",
              "      <td>419.950012</td>\n",
              "      <td>420.760010</td>\n",
              "      <td>412.720001</td>\n",
              "      <td>419.690002</td>\n",
              "      <td>417.660553</td>\n",
              "      <td>9.876800e+06</td>\n",
              "    </tr>\n",
              "  </tbody>\n",
              "</table>\n",
              "</div>"
            ],
            "text/plain": [
              "             Open        High         Low       Close   Adj Close        Volume\n",
              "count  251.000000  251.000000  251.000000  251.000000  251.000000  2.510000e+02\n",
              "mean   313.769601  317.466096  310.345658  314.179362  311.470941  2.898465e+06\n",
              "std     69.348390   69.812047   68.736568   69.199754   69.905186  1.144842e+06\n",
              "min    188.979996  190.399994  185.520004  186.119995  182.877487  9.681000e+05\n",
              "25%    245.194999  245.659996  242.059998  244.414994  241.465912  2.149950e+06\n",
              "50%    332.070007  335.809998  327.559998  330.850006  328.141907  2.716600e+06\n",
              "75%    371.354996  373.924988  367.229996  371.334992  369.355255  3.333850e+06\n",
              "max    419.950012  420.760010  412.720001  419.690002  417.660553  9.876800e+06"
            ]
          },
          "metadata": {},
          "execution_count": 5
        }
      ]
    },
    {
      "cell_type": "code",
      "metadata": {
        "id": "GQGyTaTB8sUM",
        "colab": {
          "base_uri": "https://localhost:8080/",
          "height": 419
        },
        "outputId": "c7ba64fe-b9c1-417d-c775-88ec51e4bdd2"
      },
      "source": [
        "df"
      ],
      "execution_count": null,
      "outputs": [
        {
          "output_type": "execute_result",
          "data": {
            "text/html": [
              "<div>\n",
              "<style scoped>\n",
              "    .dataframe tbody tr th:only-of-type {\n",
              "        vertical-align: middle;\n",
              "    }\n",
              "\n",
              "    .dataframe tbody tr th {\n",
              "        vertical-align: top;\n",
              "    }\n",
              "\n",
              "    .dataframe thead th {\n",
              "        text-align: right;\n",
              "    }\n",
              "</style>\n",
              "<table border=\"1\" class=\"dataframe\">\n",
              "  <thead>\n",
              "    <tr style=\"text-align: right;\">\n",
              "      <th></th>\n",
              "      <th>Date</th>\n",
              "      <th>Open</th>\n",
              "      <th>High</th>\n",
              "      <th>Low</th>\n",
              "      <th>Close</th>\n",
              "      <th>Adj Close</th>\n",
              "      <th>Volume</th>\n",
              "    </tr>\n",
              "  </thead>\n",
              "  <tbody>\n",
              "    <tr>\n",
              "      <th>0</th>\n",
              "      <td>2020-09-21</td>\n",
              "      <td>189.899994</td>\n",
              "      <td>194.169998</td>\n",
              "      <td>187.470001</td>\n",
              "      <td>194.000000</td>\n",
              "      <td>190.620224</td>\n",
              "      <td>4871300</td>\n",
              "    </tr>\n",
              "    <tr>\n",
              "      <th>1</th>\n",
              "      <td>2020-09-22</td>\n",
              "      <td>194.000000</td>\n",
              "      <td>196.139999</td>\n",
              "      <td>188.429993</td>\n",
              "      <td>191.619995</td>\n",
              "      <td>188.281677</td>\n",
              "      <td>3355800</td>\n",
              "    </tr>\n",
              "    <tr>\n",
              "      <th>2</th>\n",
              "      <td>2020-09-23</td>\n",
              "      <td>192.000000</td>\n",
              "      <td>192.919998</td>\n",
              "      <td>185.869995</td>\n",
              "      <td>186.119995</td>\n",
              "      <td>182.877487</td>\n",
              "      <td>3116100</td>\n",
              "    </tr>\n",
              "    <tr>\n",
              "      <th>3</th>\n",
              "      <td>2020-09-24</td>\n",
              "      <td>188.979996</td>\n",
              "      <td>197.460007</td>\n",
              "      <td>187.050003</td>\n",
              "      <td>195.110001</td>\n",
              "      <td>191.710876</td>\n",
              "      <td>5114600</td>\n",
              "    </tr>\n",
              "    <tr>\n",
              "      <th>4</th>\n",
              "      <td>2020-09-25</td>\n",
              "      <td>192.960007</td>\n",
              "      <td>195.389999</td>\n",
              "      <td>189.610001</td>\n",
              "      <td>194.949997</td>\n",
              "      <td>191.553665</td>\n",
              "      <td>3106000</td>\n",
              "    </tr>\n",
              "    <tr>\n",
              "      <th>...</th>\n",
              "      <td>...</td>\n",
              "      <td>...</td>\n",
              "      <td>...</td>\n",
              "      <td>...</td>\n",
              "      <td>...</td>\n",
              "      <td>...</td>\n",
              "      <td>...</td>\n",
              "    </tr>\n",
              "    <tr>\n",
              "      <th>246</th>\n",
              "      <td>2021-09-13</td>\n",
              "      <td>407.410004</td>\n",
              "      <td>409.369995</td>\n",
              "      <td>403.799988</td>\n",
              "      <td>409.260010</td>\n",
              "      <td>409.260010</td>\n",
              "      <td>1802800</td>\n",
              "    </tr>\n",
              "    <tr>\n",
              "      <th>247</th>\n",
              "      <td>2021-09-14</td>\n",
              "      <td>410.299988</td>\n",
              "      <td>417.010010</td>\n",
              "      <td>402.779999</td>\n",
              "      <td>403.690002</td>\n",
              "      <td>403.690002</td>\n",
              "      <td>3263200</td>\n",
              "    </tr>\n",
              "    <tr>\n",
              "      <th>248</th>\n",
              "      <td>2021-09-15</td>\n",
              "      <td>398.000000</td>\n",
              "      <td>403.609985</td>\n",
              "      <td>396.209991</td>\n",
              "      <td>401.950012</td>\n",
              "      <td>401.950012</td>\n",
              "      <td>3199800</td>\n",
              "    </tr>\n",
              "    <tr>\n",
              "      <th>249</th>\n",
              "      <td>2021-09-16</td>\n",
              "      <td>404.519989</td>\n",
              "      <td>405.980011</td>\n",
              "      <td>394.890015</td>\n",
              "      <td>396.679993</td>\n",
              "      <td>396.679993</td>\n",
              "      <td>2882900</td>\n",
              "    </tr>\n",
              "    <tr>\n",
              "      <th>250</th>\n",
              "      <td>2021-09-17</td>\n",
              "      <td>396.320007</td>\n",
              "      <td>399.160004</td>\n",
              "      <td>388.829987</td>\n",
              "      <td>391.459991</td>\n",
              "      <td>391.459991</td>\n",
              "      <td>3843700</td>\n",
              "    </tr>\n",
              "  </tbody>\n",
              "</table>\n",
              "<p>251 rows × 7 columns</p>\n",
              "</div>"
            ],
            "text/plain": [
              "           Date        Open        High  ...       Close   Adj Close   Volume\n",
              "0    2020-09-21  189.899994  194.169998  ...  194.000000  190.620224  4871300\n",
              "1    2020-09-22  194.000000  196.139999  ...  191.619995  188.281677  3355800\n",
              "2    2020-09-23  192.000000  192.919998  ...  186.119995  182.877487  3116100\n",
              "3    2020-09-24  188.979996  197.460007  ...  195.110001  191.710876  5114600\n",
              "4    2020-09-25  192.960007  195.389999  ...  194.949997  191.553665  3106000\n",
              "..          ...         ...         ...  ...         ...         ...      ...\n",
              "246  2021-09-13  407.410004  409.369995  ...  409.260010  409.260010  1802800\n",
              "247  2021-09-14  410.299988  417.010010  ...  403.690002  403.690002  3263200\n",
              "248  2021-09-15  398.000000  403.609985  ...  401.950012  401.950012  3199800\n",
              "249  2021-09-16  404.519989  405.980011  ...  396.679993  396.679993  2882900\n",
              "250  2021-09-17  396.320007  399.160004  ...  391.459991  391.459991  3843700\n",
              "\n",
              "[251 rows x 7 columns]"
            ]
          },
          "metadata": {},
          "execution_count": 7
        }
      ]
    },
    {
      "cell_type": "code",
      "metadata": {
        "id": "xAifThcH8xUH",
        "colab": {
          "base_uri": "https://localhost:8080/"
        },
        "outputId": "dfbae564-edde-49c4-f78f-e512d72c7eec"
      },
      "source": [
        "df.info()"
      ],
      "execution_count": null,
      "outputs": [
        {
          "output_type": "stream",
          "name": "stdout",
          "text": [
            "<class 'pandas.core.frame.DataFrame'>\n",
            "RangeIndex: 251 entries, 0 to 250\n",
            "Data columns (total 7 columns):\n",
            " #   Column     Non-Null Count  Dtype  \n",
            "---  ------     --------------  -----  \n",
            " 0   Date       251 non-null    object \n",
            " 1   Open       251 non-null    float64\n",
            " 2   High       251 non-null    float64\n",
            " 3   Low        251 non-null    float64\n",
            " 4   Close      251 non-null    float64\n",
            " 5   Adj Close  251 non-null    float64\n",
            " 6   Volume     251 non-null    int64  \n",
            "dtypes: float64(5), int64(1), object(1)\n",
            "memory usage: 13.9+ KB\n"
          ]
        }
      ]
    },
    {
      "cell_type": "code",
      "metadata": {
        "id": "sBuNquI5Qpe3",
        "colab": {
          "base_uri": "https://localhost:8080/",
          "height": 337
        },
        "outputId": "755e094d-4882-4be1-d47a-224398a48174"
      },
      "source": [
        "df['Close'].plot(figsize=(12,5))"
      ],
      "execution_count": null,
      "outputs": [
        {
          "output_type": "execute_result",
          "data": {
            "text/plain": [
              "<matplotlib.axes._subplots.AxesSubplot at 0x7febefab8110>"
            ]
          },
          "metadata": {},
          "execution_count": 17
        },
        {
          "output_type": "display_data",
          "data": {
            "image/png": "[encoded data removed]",
            "text/plain": [
              "<Figure size 864x360 with 1 Axes>"
            ]
          },
          "metadata": {
            "needs_background": "light"
          }
        }
      ]
    },
    {
      "cell_type": "code",
      "metadata": {
        "id": "CE08zJhPQoSb"
      },
      "source": [
        ""
      ],
      "execution_count": null,
      "outputs": []
    },
    {
      "cell_type": "code",
      "metadata": {
        "id": "Wr0QEYDM9AyV",
        "colab": {
          "base_uri": "https://localhost:8080/"
        },
        "outputId": "f8b0e79f-aafb-4806-c5c2-0d7a5b557868"
      },
      "source": [
        ""
      ],
      "execution_count": null,
      "outputs": [
        {
          "output_type": "stream",
          "name": "stdout",
          "text": [
            "Performing stepwise search to minimize aic\n",
            " ARIMA(2,1,2)(0,0,0)[0] intercept   : AIC=1525.791, Time=0.47 sec\n",
            " ARIMA(0,1,0)(0,0,0)[0] intercept   : AIC=1520.373, Time=0.02 sec\n",
            " ARIMA(1,1,0)(0,0,0)[0] intercept   : AIC=1521.686, Time=0.10 sec\n",
            " ARIMA(0,1,1)(0,0,0)[0] intercept   : AIC=1521.755, Time=0.07 sec\n",
            " ARIMA(0,1,0)(0,0,0)[0]             : AIC=1524.482, Time=0.02 sec\n",
            " ARIMA(1,1,1)(0,0,0)[0] intercept   : AIC=1523.494, Time=0.15 sec\n",
            "\n",
            "Best model:  ARIMA(0,1,0)(0,0,0)[0] intercept\n",
            "Total fit time: 0.861 seconds\n"
          ]
        }
      ]
    },
    {
      "cell_type": "markdown",
      "metadata": {
        "id": "kkljOEhbcmXW"
      },
      "source": [
        "# Understanding Auto Regressive Integrated Moving Average (ARIMA)"
      ]
    },
    {
      "cell_type": "markdown",
      "metadata": {
        "id": "yz8pFvL8XUPX"
      },
      "source": [
        "#Finding Order (P,D,Q)"
      ]
    },
    {
      "cell_type": "code",
      "metadata": {
        "id": "d071h5-rXRkd"
      },
      "source": [
        "from pmdarima import auto_arima"
      ],
      "execution_count": null,
      "outputs": []
    },
    {
      "cell_type": "code",
      "metadata": {
        "id": "aAxxRJ9KXR3M",
        "colab": {
          "base_uri": "https://localhost:8080/"
        },
        "outputId": "a70d65f1-59f7-4bc4-8d14-69ab92d3f363"
      },
      "source": [
        "df=df.dropna()\n",
        "best_order=auto_arima(df[\"Close\"],trace=True)"
      ],
      "execution_count": null,
      "outputs": [
        {
          "output_type": "stream",
          "name": "stdout",
          "text": [
            "Performing stepwise search to minimize aic\n",
            " ARIMA(2,1,2)(0,0,0)[0] intercept   : AIC=1525.791, Time=0.35 sec\n",
            " ARIMA(0,1,0)(0,0,0)[0] intercept   : AIC=1520.373, Time=0.02 sec\n",
            " ARIMA(1,1,0)(0,0,0)[0] intercept   : AIC=1521.686, Time=0.06 sec\n",
            " ARIMA(0,1,1)(0,0,0)[0] intercept   : AIC=1521.755, Time=0.08 sec\n",
            " ARIMA(0,1,0)(0,0,0)[0]             : AIC=1524.482, Time=0.03 sec\n",
            " ARIMA(1,1,1)(0,0,0)[0] intercept   : AIC=1523.494, Time=0.16 sec\n",
            "\n",
            "Best model:  ARIMA(0,1,0)(0,0,0)[0] intercept\n",
            "Total fit time: 0.711 seconds\n"
          ]
        }
      ]
    },
    {
      "cell_type": "markdown",
      "metadata": {
        "id": "ASIJnLjScv9B"
      },
      "source": [
        "## Data Preperation-Train Test Split"
      ]
    },
    {
      "cell_type": "code",
      "metadata": {
        "id": "8VU3NvfDczau",
        "colab": {
          "base_uri": "https://localhost:8080/",
          "height": 419
        },
        "outputId": "99ae3ad2-f97a-42e6-d9ff-91c90fa9cdb8"
      },
      "source": [
        "columns=[\"Close\"]\n",
        "df=pd.DataFrame(df,columns=columns)\n",
        "df\n"
      ],
      "execution_count": null,
      "outputs": [
        {
          "output_type": "execute_result",
          "data": {
            "text/html": [
              "<div>\n",
              "<style scoped>\n",
              "    .dataframe tbody tr th:only-of-type {\n",
              "        vertical-align: middle;\n",
              "    }\n",
              "\n",
              "    .dataframe tbody tr th {\n",
              "        vertical-align: top;\n",
              "    }\n",
              "\n",
              "    .dataframe thead th {\n",
              "        text-align: right;\n",
              "    }\n",
              "</style>\n",
              "<table border=\"1\" class=\"dataframe\">\n",
              "  <thead>\n",
              "    <tr style=\"text-align: right;\">\n",
              "      <th></th>\n",
              "      <th>Close</th>\n",
              "    </tr>\n",
              "  </thead>\n",
              "  <tbody>\n",
              "    <tr>\n",
              "      <th>0</th>\n",
              "      <td>194.000000</td>\n",
              "    </tr>\n",
              "    <tr>\n",
              "      <th>1</th>\n",
              "      <td>191.619995</td>\n",
              "    </tr>\n",
              "    <tr>\n",
              "      <th>2</th>\n",
              "      <td>186.119995</td>\n",
              "    </tr>\n",
              "    <tr>\n",
              "      <th>3</th>\n",
              "      <td>195.110001</td>\n",
              "    </tr>\n",
              "    <tr>\n",
              "      <th>4</th>\n",
              "      <td>194.949997</td>\n",
              "    </tr>\n",
              "    <tr>\n",
              "      <th>...</th>\n",
              "      <td>...</td>\n",
              "    </tr>\n",
              "    <tr>\n",
              "      <th>246</th>\n",
              "      <td>409.260010</td>\n",
              "    </tr>\n",
              "    <tr>\n",
              "      <th>247</th>\n",
              "      <td>403.690002</td>\n",
              "    </tr>\n",
              "    <tr>\n",
              "      <th>248</th>\n",
              "      <td>401.950012</td>\n",
              "    </tr>\n",
              "    <tr>\n",
              "      <th>249</th>\n",
              "      <td>396.679993</td>\n",
              "    </tr>\n",
              "    <tr>\n",
              "      <th>250</th>\n",
              "      <td>391.459991</td>\n",
              "    </tr>\n",
              "  </tbody>\n",
              "</table>\n",
              "<p>251 rows × 1 columns</p>\n",
              "</div>"
            ],
            "text/plain": [
              "          Close\n",
              "0    194.000000\n",
              "1    191.619995\n",
              "2    186.119995\n",
              "3    195.110001\n",
              "4    194.949997\n",
              "..          ...\n",
              "246  409.260010\n",
              "247  403.690002\n",
              "248  401.950012\n",
              "249  396.679993\n",
              "250  391.459991\n",
              "\n",
              "[251 rows x 1 columns]"
            ]
          },
          "metadata": {},
          "execution_count": 25
        }
      ]
    },
    {
      "cell_type": "code",
      "metadata": {
        "id": "pvvYzPLhXCqM"
      },
      "source": [
        "train,test=df[0:int(len(df)*0.85)],df[int(len(df)*0.85):]"
      ],
      "execution_count": null,
      "outputs": []
    },
    {
      "cell_type": "code",
      "metadata": {
        "id": "sO8g9RCI95Xe",
        "colab": {
          "base_uri": "https://localhost:8080/"
        },
        "outputId": "a9020122-7271-4df4-9e42-7a59cc8892d4"
      },
      "source": [
        "  train.shape,test.shape,df.shape"
      ],
      "execution_count": null,
      "outputs": [
        {
          "output_type": "execute_result",
          "data": {
            "text/plain": [
              "((213, 1), (38, 1), (251, 1))"
            ]
          },
          "metadata": {},
          "execution_count": 31
        }
      ]
    },
    {
      "cell_type": "code",
      "metadata": {
        "id": "-yhqLd73tTWA"
      },
      "source": [
        ""
      ],
      "execution_count": null,
      "outputs": []
    },
    {
      "cell_type": "markdown",
      "metadata": {
        "id": "j57-ly4Jc5va"
      },
      "source": [
        "## Creating ARIMA Model"
      ]
    },
    {
      "cell_type": "code",
      "metadata": {
        "colab": {
          "base_uri": "https://localhost:8080/",
          "height": 533
        },
        "id": "TOOktKPMtPSp",
        "outputId": "46dd05e3-6bf2-4a54-bc1b-f0a06bdd8855"
      },
      "source": [
        "from statsmodels.tsa.arima_model import ARIMA \n",
        "model=ARIMA(train,order=(0,1,0))\n",
        "model=model.fit()\n",
        "model.summary()"
      ],
      "execution_count": null,
      "outputs": [
        {
          "output_type": "stream",
          "name": "stderr",
          "text": [
            "/usr/local/lib/python3.7/dist-packages/statsmodels/tsa/arima_model.py:472: FutureWarning: \n",
            "statsmodels.tsa.arima_model.ARMA and statsmodels.tsa.arima_model.ARIMA have\n",
            "been deprecated in favor of statsmodels.tsa.arima.model.ARIMA (note the .\n",
            "between arima and model) and\n",
            "statsmodels.tsa.SARIMAX. These will be removed after the 0.12 release.\n",
            "\n",
            "statsmodels.tsa.arima.model.ARIMA makes use of the statespace framework and\n",
            "is both well tested and maintained.\n",
            "\n",
            "To silence this warning and continue using ARMA and ARIMA until they are\n",
            "removed, use:\n",
            "\n",
            "import warnings\n",
            "warnings.filterwarnings('ignore', 'statsmodels.tsa.arima_model.ARMA',\n",
            "                        FutureWarning)\n",
            "warnings.filterwarnings('ignore', 'statsmodels.tsa.arima_model.ARIMA',\n",
            "                        FutureWarning)\n",
            "\n",
            "  warnings.warn(ARIMA_DEPRECATION_WARN, FutureWarning)\n"
          ]
        },
        {
          "output_type": "execute_result",
          "data": {
            "text/html": [
              "<table class=\"simpletable\">\n",
              "<caption>ARIMA Model Results</caption>\n",
              "<tr>\n",
              "  <th>Dep. Variable:</th>      <td>D.Close</td>     <th>  No. Observations:  </th>    <td>212</td>  \n",
              "</tr>\n",
              "<tr>\n",
              "  <th>Model:</th>          <td>ARIMA(0, 1, 0)</td>  <th>  Log Likelihood     </th> <td>-645.330</td>\n",
              "</tr>\n",
              "<tr>\n",
              "  <th>Method:</th>               <td>css</td>       <th>  S.D. of innovations</th>   <td>5.079</td> \n",
              "</tr>\n",
              "<tr>\n",
              "  <th>Date:</th>          <td>Sun, 19 Sep 2021</td> <th>  AIC                </th> <td>1294.661</td>\n",
              "</tr>\n",
              "<tr>\n",
              "  <th>Time:</th>              <td>15:43:56</td>     <th>  BIC                </th> <td>1301.374</td>\n",
              "</tr>\n",
              "<tr>\n",
              "  <th>Sample:</th>                <td>1</td>        <th>  HQIC               </th> <td>1297.374</td>\n",
              "</tr>\n",
              "<tr>\n",
              "  <th></th>                       <td> </td>        <th>                     </th>     <td> </td>   \n",
              "</tr>\n",
              "</table>\n",
              "<table class=\"simpletable\">\n",
              "<tr>\n",
              "    <td></td>       <th>coef</th>     <th>std err</th>      <th>z</th>      <th>P>|z|</th>  <th>[0.025</th>    <th>0.975]</th>  \n",
              "</tr>\n",
              "<tr>\n",
              "  <th>const</th> <td>    0.8580</td> <td>    0.349</td> <td>    2.460</td> <td> 0.014</td> <td>    0.174</td> <td>    1.542</td>\n",
              "</tr>\n",
              "</table>"
            ],
            "text/plain": [
              "<class 'statsmodels.iolib.summary.Summary'>\n",
              "\"\"\"\n",
              "                             ARIMA Model Results                              \n",
              "==============================================================================\n",
              "Dep. Variable:                D.Close   No. Observations:                  212\n",
              "Model:                 ARIMA(0, 1, 0)   Log Likelihood                -645.330\n",
              "Method:                           css   S.D. of innovations              5.079\n",
              "Date:                Sun, 19 Sep 2021   AIC                           1294.661\n",
              "Time:                        15:43:56   BIC                           1301.374\n",
              "Sample:                             1   HQIC                          1297.374\n",
              "                                                                              \n",
              "==============================================================================\n",
              "                 coef    std err          z      P>|z|      [0.025      0.975]\n",
              "------------------------------------------------------------------------------\n",
              "const          0.8580      0.349      2.460      0.014       0.174       1.542\n",
              "==============================================================================\n",
              "\"\"\""
            ]
          },
          "metadata": {},
          "execution_count": 33
        }
      ]
    },
    {
      "cell_type": "code",
      "metadata": {
        "id": "-yd1YplKtRZY"
      },
      "source": [
        ""
      ],
      "execution_count": null,
      "outputs": []
    },
    {
      "cell_type": "code",
      "metadata": {
        "id": "GdFXAfTFc7iw"
      },
      "source": [
        ""
      ],
      "execution_count": null,
      "outputs": []
    },
    {
      "cell_type": "code",
      "metadata": {
        "id": "Lcsf6qQTSRFK"
      },
      "source": [
        ""
      ],
      "execution_count": null,
      "outputs": []
    },
    {
      "cell_type": "markdown",
      "metadata": {
        "id": "T-0eY9xOdA4S"
      },
      "source": [
        "## Forecasting"
      ]
    },
    {
      "cell_type": "code",
      "metadata": {
        "id": "ZDkModPVbuCa"
      },
      "source": [
        "start=len(train)               ##Example= y1,y2,y3 > y3-y2,y2-y1 (Total elements is 3 but after using Arima its 2 > data- 1 \n",
        "end=len(train)+len(test)-1\n",
        "pred=model.predict(start=start,end=end,typ='levels').rename('ARIMA Predictions')\n",
        "pred.plot(legend=True)\n",
        "test['Close'].plot(legend=True)"
      ],
      "execution_count": null,
      "outputs": []
    },
    {
      "cell_type": "markdown",
      "metadata": {
        "id": "RezUs51nZn7g"
      },
      "source": [
        "### Error"
      ]
    },
    {
      "cell_type": "code",
      "metadata": {
        "id": "og_8xBS9YWwK"
      },
      "source": [
        "## ERROR\n",
        "from sklearn.metrics import mean_squared_error\n",
        "from math import sqrt\n",
        "test.mean()\n",
        "rmse=sqrt(mean_squared_error(pred,test))\n",
        "print(rmse)"
      ],
      "execution_count": null,
      "outputs": []
    },
    {
      "cell_type": "markdown",
      "metadata": {
        "id": "lQr2pxxsZr87"
      },
      "source": [
        "##More Forecast Graphs"
      ]
    },
    {
      "cell_type": "code",
      "metadata": {
        "id": "nUHn43VWYWzb"
      },
      "source": [
        "start=1\n",
        "end=251\n",
        "pred=model.predict(start=start,end=end,typ='levels').rename('ARIMA Predictions')\n",
        "pred.plot(legend=True)\n",
        "test['Close'].plot(legend=True)"
      ],
      "execution_count": null,
      "outputs": []
    },
    {
      "cell_type": "code",
      "metadata": {
        "id": "1rxZZbPCYW2q"
      },
      "source": [
        "start=1\n",
        "end=251\n",
        "pred=model.predict(start=start,end=end,typ='levels').rename('ARIMA Predictions')\n",
        "pred.plot(legend=True,color='blue', marker='o', linestyle='dashed',label='Predicted Price')\n",
        "test['Close'].plot(legend=True,color='red', label='Actual Price')\n",
        "train['Close'].plot(legend=True,color='green', label='Train data(Historical)')\n",
        "\n"
      ],
      "execution_count": null,
      "outputs": []
    },
    {
      "cell_type": "markdown",
      "metadata": {
        "id": "wp_3hyN2Zx-w"
      },
      "source": [
        "## 30 days into the future"
      ]
    },
    {
      "cell_type": "code",
      "metadata": {
        "id": "LFJkkfQfYW6H"
      },
      "source": [
        "### 30 days into the future\n",
        "\n",
        "start=1\n",
        "end=281\n",
        "pred=model.predict(start=start,end=end,typ='levels').rename('ARIMA Predictions')\n",
        "pred.plot(legend=True,color='blue', marker='o', linestyle='dashed',label='Predicted Price')\n",
        "test['Close'].plot(legend=True,color='red', label='Actual Price')\n",
        "train['Close'].plot(legend=True,color='green', label='Train data(Historical)')\n",
        "\n"
      ],
      "execution_count": null,
      "outputs": []
    }
  ]
}